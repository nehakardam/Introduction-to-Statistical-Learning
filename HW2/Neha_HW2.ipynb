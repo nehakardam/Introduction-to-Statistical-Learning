{
 "cells": [
  {
   "cell_type": "markdown",
   "metadata": {},
   "source": [
    "# Neha_HW 2_Part II: Computer Assignment Solution"
   ]
  },
  {
   "cell_type": "code",
   "execution_count": 1,
   "metadata": {},
   "outputs": [],
   "source": [
    "import numpy as np\n",
    "import matplotlib.pyplot as plt\n",
    "import pandas as pd\n",
    "from sklearn.linear_model import LinearRegression\n",
    "from sklearn.metrics import mean_squared_error\n",
    "from math import sqrt\n",
    "from sklearn.preprocessing import OneHotEncoder\n",
    "from sklearn import preprocessing\n",
    "from sklearn import linear_model\n",
    "from sklearn.linear_model import LassoCV"
   ]
  },
  {
   "cell_type": "markdown",
   "metadata": {},
   "source": [
    "# Part 1 & 2 - loading the data and replacing the missing values"
   ]
  },
  {
   "cell_type": "code",
   "execution_count": 2,
   "metadata": {},
   "outputs": [],
   "source": [
    "df = pd.read_csv('AmesHousing_neha.csv')\n",
    "\n",
    "numerical_variables = ['Lot Area', 'Lot Frontage', 'Year Built',\n",
    "'Mas Vnr Area', 'BsmtFin SF 1', 'BsmtFin SF 2',\n",
    "'Bsmt Unf SF', 'Total Bsmt SF', '1st Flr SF',\n",
    "'2nd Flr SF', 'Low Qual Fin SF', 'Gr Liv Area',\n",
    "'Garage Area', 'Wood Deck SF', 'Open Porch SF',\n",
    "'Enclosed Porch', '3Ssn Porch', 'Screen Porch',\n",
    "'Pool Area']\n",
    "\n",
    "\n",
    "discrete_variables = ['MS SubClass', 'MS Zoning', 'Street',\n",
    "'Alley', 'Lot Shape', 'Land Contour',\n",
    "'Utilities', 'Lot Config', 'Land Slope',\n",
    "'Neighborhood', 'Condition 1', 'Condition 2',\n",
    "'Bldg Type', 'House Style', 'Overall Qual',\n",
    "'Overall Cond', 'Roof Style', 'Roof Matl',\n",
    "'Exterior 1st', 'Exterior 2nd', 'Mas Vnr Type',\n",
    "'Exter Qual', 'Exter Cond', 'Foundation',\n",
    "'Bsmt Qual', 'Bsmt Cond', 'Bsmt Exposure',\n",
    "'BsmtFin Type 1', 'Heating', 'Heating QC',\n",
    "'Central Air', 'Electrical', 'Bsmt Full Bath',\n",
    "'Bsmt Half Bath', 'Full Bath', 'Half Bath',\n",
    "'Bedroom AbvGr', 'Kitchen AbvGr', 'Kitchen Qual',\n",
    "'TotRms AbvGrd', 'Functional', 'Fireplaces',\n",
    "'Fireplace Qu', 'Garage Type', 'Garage Cars',\n",
    "'Garage Qual', 'Garage Cond', 'Paved Drive',\n",
    "'Pool QC', 'Fence', 'Sale Type', 'Sale Condition']"
   ]
  },
  {
   "cell_type": "code",
   "execution_count": 3,
   "metadata": {},
   "outputs": [],
   "source": [
    "# replace all the missing values for numerical features with zeros\n",
    "for row in range(2930):\n",
    "    for column in numerical_variables:\n",
    "        if np.isnan(df.loc[row,column]):\n",
    "            df.loc[row,column] = 0\n",
    "\n",
    "# all categorial features once converted to string will use 'nan' to indicate missing value\n",
    "for column in discrete_variables:\n",
    "    df = df.astype({column:'str'})\n",
    "\n",
    "# let's use our own special string('#$@') to represent missing value \n",
    "for row in range(2930):\n",
    "    for column in discrete_variables:\n",
    "        if (df.loc[row,column] == 'nan'):\n",
    "            df.loc[row,column] = '#$@'"
   ]
  },
  {
   "cell_type": "markdown",
   "metadata": {},
   "source": [
    "# Part 3 -Split data into train, validation and test sets."
   ]
  },
  {
   "cell_type": "code",
   "execution_count": 4,
   "metadata": {},
   "outputs": [],
   "source": [
    "train = []\n",
    "validation = []\n",
    "test = []\n",
    "for row in range(2930):\n",
    "    if(df.loc[row,'Order'] % 5 == 3):\n",
    "        validation.append(df.loc[row,:].values)\n",
    "    elif(df.loc[row,'Order'] % 5 == 4):\n",
    "        test.append(df.loc[row,:].values)\n",
    "    else:\n",
    "        train.append(df.loc[row,:].values)\n",
    "df_train = pd.DataFrame(train, columns = df.columns)\n",
    "df_validation = pd.DataFrame(validation, columns = df.columns)\n",
    "df_test = pd.DataFrame(test, columns = df.columns)"
   ]
  },
  {
   "cell_type": "markdown",
   "metadata": {},
   "source": [
    "# Part 4 - Simple one variable least squares linear regression"
   ]
  },
  {
   "cell_type": "code",
   "execution_count": 5,
   "metadata": {},
   "outputs": [],
   "source": [
    "X_train_single = df_train.loc[:,'Gr Liv Area':'Gr Liv Area'].to_numpy()\n",
    "Y_train = df_train.loc[:,'SalePrice'].to_numpy()\n",
    "X_validation_single = df_validation.loc[:,'Gr Liv Area':'Gr Liv Area'].to_numpy()\n",
    "Y_validation = df_validation.loc[:,'SalePrice'].to_numpy()"
   ]
  },
  {
   "cell_type": "code",
   "execution_count": 6,
   "metadata": {},
   "outputs": [],
   "source": [
    "# choose your own model\n",
    "reg_single = LinearRegression()\n",
    "# train\n",
    "reg_single.fit(X_train_single, Y_train)\n",
    "# make predictions using the validation set\n",
    "Y_pred = reg_single.predict(X_validation_single)"
   ]
  },
  {
   "cell_type": "code",
   "execution_count": 7,
   "metadata": {},
   "outputs": [
    {
     "data": {
      "image/png": "[encoded data removed]",
      "text/plain": [
       "<Figure size 432x288 with 1 Axes>"
      ]
     },
     "metadata": {
      "needs_background": "light"
     },
     "output_type": "display_data"
    }
   ],
   "source": [
    "# Plot outputs\n",
    "plt.scatter(X_train_single, Y_train,  color='grey')\n",
    "plt.xlabel('Gr Liv Area', fontsize=18)\n",
    "plt.ylabel('SalePrice', rotation=90, fontsize=18)\n",
    "plt.plot(X_validation_single, Y_pred, color='blue', linewidth=3)\n",
    "plt.show()"
   ]
  },
  {
   "cell_type": "code",
   "execution_count": 8,
   "metadata": {
    "scrolled": false
   },
   "outputs": [
    {
     "name": "stdout",
     "output_type": "stream",
     "text": [
      "Coefficients:  [112.41373299] \n",
      "Intercept:  12662.054191173054\n"
     ]
    }
   ],
   "source": [
    "# The coefficients and intercept\n",
    "print('Coefficients: ', reg_single.coef_, '\\nIntercept: ', reg_single.intercept_)"
   ]
  },
  {
   "cell_type": "markdown",
   "metadata": {},
   "source": [
    "**The equation of the line is \"Y = 12662.054191173054 + 112.41373299 X\"**"
   ]
  },
  {
   "cell_type": "code",
   "execution_count": 9,
   "metadata": {},
   "outputs": [
    {
     "name": "stdout",
     "output_type": "stream",
     "text": [
      "RMSE: 56299.05\n"
     ]
    }
   ],
   "source": [
    "# The mean squared error\n",
    "print('RMSE: %.2f'\n",
    "      % sqrt(mean_squared_error(Y_validation, Y_pred)))"
   ]
  },
  {
   "cell_type": "markdown",
   "metadata": {},
   "source": [
    "**RMSE: 56299.05**"
   ]
  },
  {
   "cell_type": "markdown",
   "metadata": {},
   "source": [
    "# Part 5 - Add more features and use one-hot encoding for categorical features"
   ]
  },
  {
   "cell_type": "code",
   "execution_count": 10,
   "metadata": {},
   "outputs": [
    {
     "name": "stdout",
     "output_type": "stream",
     "text": [
      "RMSE: 26700.24\n"
     ]
    }
   ],
   "source": [
    "# define one hot encoding\n",
    "encoder = OneHotEncoder(handle_unknown='ignore', sparse=False)\n",
    "\n",
    "# transform data\n",
    "onehot = pd.DataFrame(encoder.fit_transform(df_train.loc[:,discrete_variables]))\n",
    "X_train_numerical = df_train.loc[:,numerical_variables]\n",
    "X_train_multiple = X_train_numerical.join(onehot)\n",
    "reg_multiple = LinearRegression()\n",
    "\n",
    "# train\n",
    "reg_multiple.fit(X_train_multiple, Y_train)\n",
    "\n",
    "# transform validation data\n",
    "onehot_validation = pd.DataFrame(encoder.transform(df_validation.loc[:,discrete_variables]))\n",
    "X_validation_numerical = df_validation.loc[:,numerical_variables]\n",
    "X_validation_multiple = X_validation_numerical.join(onehot_validation)\n",
    "\n",
    "# predict\n",
    "Y_pred_multiple = reg_multiple.predict(X_validation_multiple)\n",
    "\n",
    "# The mean squared error\n",
    "print('RMSE: %.2f'\n",
    "      % sqrt(mean_squared_error(Y_validation, Y_pred_multiple)))"
   ]
  },
  {
   "cell_type": "markdown",
   "metadata": {},
   "source": [
    "**RMSE: 26700.24**"
   ]
  },
  {
   "cell_type": "markdown",
   "metadata": {},
   "source": [
    "# Part 6 - Apply standardization and use Lasso Regression"
   ]
  },
  {
   "cell_type": "code",
   "execution_count": 11,
   "metadata": {},
   "outputs": [],
   "source": [
    "# normalize the features by subtracting the mean and dividing by the standard deviation\n",
    "scaler = preprocessing.StandardScaler().fit(X_train_multiple)\n",
    "X_train_scaled = scaler.transform(X_train_multiple)\n",
    "X_validation_scaled = scaler.transform(X_validation_multiple)"
   ]
  },
  {
   "cell_type": "code",
   "execution_count": 12,
   "metadata": {},
   "outputs": [
    {
     "data": {
      "text/plain": [
       "Text(0, 0.5, 'Mean square error')"
      ]
     },
     "execution_count": 12,
     "metadata": {},
     "output_type": "execute_result"
    },
    {
     "data": {
      "image/png": "[encoded data removed]",
      "text/plain": [
       "<Figure size 432x288 with 1 Axes>"
      ]
     },
     "metadata": {
      "needs_background": "light"
     },
     "output_type": "display_data"
    }
   ],
   "source": [
    "alphas = [50, 100, 150, 200, 250, 300, 350, 400, 450, 500];\n",
    "\n",
    "reg_lasso = LassoCV(alphas=alphas).fit(X_train_scaled, Y_train)\n",
    "\n",
    "# Display results\n",
    "plt.figure()\n",
    "plt.plot(reg_lasso.alphas_, reg_lasso.mse_path_.mean(axis=-1), label='Average across the folds', linewidth=2)\n",
    "plt.legend()\n",
    "plt.xlabel(r'$\\alpha$')\n",
    "plt.ylabel('Mean square error')"
   ]
  },
  {
   "cell_type": "code",
   "execution_count": 13,
   "metadata": {},
   "outputs": [
    {
     "name": "stdout",
     "output_type": "stream",
     "text": [
      "alpha = 450  with minimum RMSE = 24191.665064500732\n"
     ]
    }
   ],
   "source": [
    "error_v = [] # keep track of error in validation set\n",
    "error_t = [] # keep track of error in training set\n",
    "min_error = 100000 # initialize with big number than expected\n",
    "best_alpha = 50 # initialize with the first value we are going to try\n",
    "for alpha in alphas:\n",
    "    reg_lasso = linear_model.Lasso(alpha=alpha)\n",
    "    # train\n",
    "    reg_lasso.fit(X_train_scaled, Y_train)\n",
    "    # predict\n",
    "    Y_pred_lasso_v = reg_lasso.predict(X_validation_scaled)\n",
    "    Y_pred_lasso_t = reg_lasso.predict(X_train_scaled)\n",
    "    # compute RMSE\n",
    "    error_i_v = sqrt(mean_squared_error(Y_validation, Y_pred_lasso_v))\n",
    "    error_i_t = sqrt(mean_squared_error(Y_train, Y_pred_lasso_t))\n",
    "    error_v.append(error_i_v)\n",
    "    error_t.append(error_i_t)\n",
    "    # keep the record of lowest error\n",
    "    if(error_i_v < min_error):\n",
    "        min_error = error_i_v\n",
    "        best_alpha = alpha\n",
    "print('alpha =',best_alpha,' with minimum RMSE =',min_error)"
   ]
  },
  {
   "cell_type": "code",
   "execution_count": 14,
   "metadata": {},
   "outputs": [
    {
     "data": {
      "image/png": "[encoded data removed]",
      "text/plain": [
       "<Figure size 432x288 with 1 Axes>"
      ]
     },
     "metadata": {
      "needs_background": "light"
     },
     "output_type": "display_data"
    }
   ],
   "source": [
    "plt.figure()\n",
    "plt.plot(alphas, error_v, color='red', label='validation', marker = '.')\n",
    "plt.plot(alphas, error_t, color='blue', label='training', marker = '.')\n",
    "plt.title('RMSE Alpha Value')\n",
    "plt.xlabel('Alpha Value')\n",
    "plt.ylabel('RMSE')\n",
    "plt.legend(loc='best')\n",
    "plt.show()"
   ]
  },
  {
   "cell_type": "markdown",
   "metadata": {},
   "source": [
    "**Briey explain the concept of over-ftting and how this graph can be used to detect it.**\n",
    "\n",
    "Overfitting means that the model performs well on training data but performs poorly to predict new data. In the graph above, we can clearly see the gap between training and validation RMSE plots which can be used to detects over-fitting."
   ]
  },
  {
   "cell_type": "markdown",
   "metadata": {},
   "source": [
    "# Part 7 - Use test data for each model and compare RMSE"
   ]
  },
  {
   "cell_type": "code",
   "execution_count": 15,
   "metadata": {},
   "outputs": [
    {
     "name": "stdout",
     "output_type": "stream",
     "text": [
      "single variable model RMSE: 55457.72\n",
      "the least squares model RMSE: 36034.59\n",
      "the regularized model RMSE: 33983.69\n"
     ]
    }
   ],
   "source": [
    "X_test_single = df_test.loc[:,'Gr Liv Area':'Gr Liv Area'].to_numpy()\n",
    "Y_test = df_test.loc[:,'SalePrice'].to_numpy()\n",
    "Y_pred_test = reg_single.predict(X_test_single)\n",
    "# The mean squared error\n",
    "print('single variable model RMSE: %.2f'\n",
    "      % sqrt(mean_squared_error(Y_test, Y_pred_test)))\n",
    "\n",
    "onehot_test = pd.DataFrame(encoder.transform(df_test.loc[:,discrete_variables]))\n",
    "X_test_numerical = df_test.loc[:,numerical_variables]\n",
    "X_test_multiple = X_test_numerical.join(onehot_test)\n",
    "Y_pred_multiple_test = reg_multiple.predict(X_test_multiple)\n",
    "# The mean squared error\n",
    "print('the least squares model RMSE: %.2f'\n",
    "      % sqrt(mean_squared_error(Y_test, Y_pred_multiple_test)))\n",
    "\n",
    "X_test_scaled = scaler.transform(X_test_multiple)\n",
    "Y_pred_lasso_test = reg_lasso.predict(X_test_scaled)\n",
    "print('the regularized model RMSE: %.2f'\n",
    "      % sqrt(mean_squared_error(Y_test, Y_pred_lasso_test)))"
   ]
  },
  {
   "cell_type": "markdown",
   "metadata": {},
   "source": [
    "Model Name | RMSE\n",
    ":-------------- | :---------------\n",
    "single variable model | 55457.72\n",
    "the least squares model | 36034.59\n",
    "the regularized model | 33983.69"
   ]
  }
 ],
 "metadata": {
  "kernelspec": {
   "display_name": "Python 3",
   "language": "python",
   "name": "python3"
  },
  "language_info": {
   "codemirror_mode": {
    "name": "ipython",
    "version": 3
   },
   "file_extension": ".py",
   "mimetype": "text/x-python",
   "name": "python",
   "nbconvert_exporter": "python",
   "pygments_lexer": "ipython3",
   "version": "3.8.5"
  }
 },
 "nbformat": 4,
 "nbformat_minor": 4
}
