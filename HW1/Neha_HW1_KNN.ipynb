{
 "cells": [
  {
   "cell_type": "code",
   "execution_count": 7,
   "metadata": {},
   "outputs": [],
   "source": [
    "# In the section below we are importing libraries which will be used in the program below\n",
    "# <numpy> to compute mean error for the predicted values\n",
    "# <matplotlib.pyplot> to plot the error graph\n",
    "# <pandas> to load and parse the csv file into meaningful dataframes\n",
    "import numpy as np\n",
    "import matplotlib.pyplot as plt\n",
    "import pandas as pd"
   ]
  },
  {
   "cell_type": "code",
   "execution_count": 8,
   "metadata": {
    "scrolled": true
   },
   "outputs": [
    {
     "data": {
      "text/html": [
       "<div>\n",
       "<style scoped>\n",
       "    .dataframe tbody tr th:only-of-type {\n",
       "        vertical-align: middle;\n",
       "    }\n",
       "\n",
       "    .dataframe tbody tr th {\n",
       "        vertical-align: top;\n",
       "    }\n",
       "\n",
       "    .dataframe thead th {\n",
       "        text-align: right;\n",
       "    }\n",
       "</style>\n",
       "<table border=\"1\" class=\"dataframe\">\n",
       "  <thead>\n",
       "    <tr style=\"text-align: right;\">\n",
       "      <th></th>\n",
       "      <th>6.0000</th>\n",
       "      <th>-1.0000</th>\n",
       "      <th>-1.0000.1</th>\n",
       "      <th>-1.0000.2</th>\n",
       "      <th>-1.0000.3</th>\n",
       "      <th>-1.0000.4</th>\n",
       "      <th>-1.0000.5</th>\n",
       "      <th>-1.0000.6</th>\n",
       "      <th>-0.6310</th>\n",
       "      <th>0.8620</th>\n",
       "      <th>...</th>\n",
       "      <th>0.8230</th>\n",
       "      <th>1.0000.39</th>\n",
       "      <th>0.4820</th>\n",
       "      <th>-0.4740</th>\n",
       "      <th>-0.9910</th>\n",
       "      <th>-1.0000.121</th>\n",
       "      <th>-1.0000.122</th>\n",
       "      <th>-1.0000.123</th>\n",
       "      <th>-1.0000.124</th>\n",
       "      <th>Unnamed: 257</th>\n",
       "    </tr>\n",
       "  </thead>\n",
       "  <tbody>\n",
       "    <tr>\n",
       "      <th>0</th>\n",
       "      <td>5.0</td>\n",
       "      <td>-1.0</td>\n",
       "      <td>-1.0</td>\n",
       "      <td>-1.0</td>\n",
       "      <td>-0.813</td>\n",
       "      <td>-0.671</td>\n",
       "      <td>-0.809</td>\n",
       "      <td>-0.887</td>\n",
       "      <td>-0.671</td>\n",
       "      <td>-0.853</td>\n",
       "      <td>...</td>\n",
       "      <td>-0.671</td>\n",
       "      <td>-0.033</td>\n",
       "      <td>0.761</td>\n",
       "      <td>0.762</td>\n",
       "      <td>0.126</td>\n",
       "      <td>-0.095</td>\n",
       "      <td>-0.671</td>\n",
       "      <td>-0.828</td>\n",
       "      <td>-1.0</td>\n",
       "      <td>NaN</td>\n",
       "    </tr>\n",
       "    <tr>\n",
       "      <th>1</th>\n",
       "      <td>4.0</td>\n",
       "      <td>-1.0</td>\n",
       "      <td>-1.0</td>\n",
       "      <td>-1.0</td>\n",
       "      <td>-1.000</td>\n",
       "      <td>-1.000</td>\n",
       "      <td>-1.000</td>\n",
       "      <td>-1.000</td>\n",
       "      <td>-1.000</td>\n",
       "      <td>-1.000</td>\n",
       "      <td>...</td>\n",
       "      <td>-1.000</td>\n",
       "      <td>-1.000</td>\n",
       "      <td>-0.109</td>\n",
       "      <td>1.000</td>\n",
       "      <td>-0.179</td>\n",
       "      <td>-1.000</td>\n",
       "      <td>-1.000</td>\n",
       "      <td>-1.000</td>\n",
       "      <td>-1.0</td>\n",
       "      <td>NaN</td>\n",
       "    </tr>\n",
       "    <tr>\n",
       "      <th>2</th>\n",
       "      <td>7.0</td>\n",
       "      <td>-1.0</td>\n",
       "      <td>-1.0</td>\n",
       "      <td>-1.0</td>\n",
       "      <td>-1.000</td>\n",
       "      <td>-1.000</td>\n",
       "      <td>-0.273</td>\n",
       "      <td>0.684</td>\n",
       "      <td>0.960</td>\n",
       "      <td>0.450</td>\n",
       "      <td>...</td>\n",
       "      <td>1.000</td>\n",
       "      <td>0.536</td>\n",
       "      <td>-0.987</td>\n",
       "      <td>-1.000</td>\n",
       "      <td>-1.000</td>\n",
       "      <td>-1.000</td>\n",
       "      <td>-1.000</td>\n",
       "      <td>-1.000</td>\n",
       "      <td>-1.0</td>\n",
       "      <td>NaN</td>\n",
       "    </tr>\n",
       "    <tr>\n",
       "      <th>3</th>\n",
       "      <td>3.0</td>\n",
       "      <td>-1.0</td>\n",
       "      <td>-1.0</td>\n",
       "      <td>-1.0</td>\n",
       "      <td>-1.000</td>\n",
       "      <td>-1.000</td>\n",
       "      <td>-0.928</td>\n",
       "      <td>-0.204</td>\n",
       "      <td>0.751</td>\n",
       "      <td>0.466</td>\n",
       "      <td>...</td>\n",
       "      <td>0.639</td>\n",
       "      <td>1.000</td>\n",
       "      <td>1.000</td>\n",
       "      <td>0.791</td>\n",
       "      <td>0.439</td>\n",
       "      <td>-0.199</td>\n",
       "      <td>-0.883</td>\n",
       "      <td>-1.000</td>\n",
       "      <td>-1.0</td>\n",
       "      <td>NaN</td>\n",
       "    </tr>\n",
       "    <tr>\n",
       "      <th>4</th>\n",
       "      <td>6.0</td>\n",
       "      <td>-1.0</td>\n",
       "      <td>-1.0</td>\n",
       "      <td>-1.0</td>\n",
       "      <td>-1.000</td>\n",
       "      <td>-1.000</td>\n",
       "      <td>-0.397</td>\n",
       "      <td>0.983</td>\n",
       "      <td>-0.535</td>\n",
       "      <td>-1.000</td>\n",
       "      <td>...</td>\n",
       "      <td>0.015</td>\n",
       "      <td>-0.862</td>\n",
       "      <td>-0.871</td>\n",
       "      <td>-0.437</td>\n",
       "      <td>-1.000</td>\n",
       "      <td>-1.000</td>\n",
       "      <td>-1.000</td>\n",
       "      <td>-1.000</td>\n",
       "      <td>-1.0</td>\n",
       "      <td>NaN</td>\n",
       "    </tr>\n",
       "  </tbody>\n",
       "</table>\n",
       "<p>5 rows × 258 columns</p>\n",
       "</div>"
      ],
      "text/plain": [
       "   6.0000  -1.0000  -1.0000.1  -1.0000.2  -1.0000.3  -1.0000.4  -1.0000.5  \\\n",
       "0     5.0     -1.0       -1.0       -1.0     -0.813     -0.671     -0.809   \n",
       "1     4.0     -1.0       -1.0       -1.0     -1.000     -1.000     -1.000   \n",
       "2     7.0     -1.0       -1.0       -1.0     -1.000     -1.000     -0.273   \n",
       "3     3.0     -1.0       -1.0       -1.0     -1.000     -1.000     -0.928   \n",
       "4     6.0     -1.0       -1.0       -1.0     -1.000     -1.000     -0.397   \n",
       "\n",
       "   -1.0000.6  -0.6310  0.8620  ...  0.8230  1.0000.39  0.4820  -0.4740  \\\n",
       "0     -0.887   -0.671  -0.853  ...  -0.671     -0.033   0.761    0.762   \n",
       "1     -1.000   -1.000  -1.000  ...  -1.000     -1.000  -0.109    1.000   \n",
       "2      0.684    0.960   0.450  ...   1.000      0.536  -0.987   -1.000   \n",
       "3     -0.204    0.751   0.466  ...   0.639      1.000   1.000    0.791   \n",
       "4      0.983   -0.535  -1.000  ...   0.015     -0.862  -0.871   -0.437   \n",
       "\n",
       "   -0.9910  -1.0000.121  -1.0000.122  -1.0000.123  -1.0000.124  Unnamed: 257  \n",
       "0    0.126       -0.095       -0.671       -0.828         -1.0           NaN  \n",
       "1   -0.179       -1.000       -1.000       -1.000         -1.0           NaN  \n",
       "2   -1.000       -1.000       -1.000       -1.000         -1.0           NaN  \n",
       "3    0.439       -0.199       -0.883       -1.000         -1.0           NaN  \n",
       "4   -1.000       -1.000       -1.000       -1.000         -1.0           NaN  \n",
       "\n",
       "[5 rows x 258 columns]"
      ]
     },
     "execution_count": 8,
     "metadata": {},
     "output_type": "execute_result"
    }
   ],
   "source": [
    "# In the section below we are loading training data csv file into dataframe named df_train.\n",
    "df_train = pd.read_csv('zip.train.p.csv')\n",
    "df_train.head()"
   ]
  },
  {
   "cell_type": "code",
   "execution_count": 9,
   "metadata": {},
   "outputs": [],
   "source": [
    "# In the section below we are separating attributes and labels for training data.  \n",
    "X_train = df_train.iloc[:, 1:256].values\n",
    "Y_train = df_train.iloc[:, 0].values"
   ]
  },
  {
   "cell_type": "code",
   "execution_count": 10,
   "metadata": {},
   "outputs": [],
   "source": [
    "# In the section below we will use 10% of the training data as validation data.\n",
    "from sklearn.model_selection import train_test_split\n",
    "# split dataset into training and validation data\n",
    "X_train, X_validation, Y_train, Y_validation = train_test_split(\n",
    "    X_train, Y_train, test_size=0.1, random_state=1, stratify=Y_train)"
   ]
  },
  {
   "cell_type": "code",
   "execution_count": 26,
   "metadata": {},
   "outputs": [
    {
     "name": "stdout",
     "output_type": "stream",
     "text": [
      "best k= 1  with min_error= 0.0205761316872428\n"
     ]
    }
   ],
   "source": [
    "# In the section below we are training and validating KNN classifier ...\n",
    "# ... for different values of K (1 to 20).\n",
    "from sklearn.neighbors import KNeighborsClassifier\n",
    "error = []\n",
    "min_error = 1\n",
    "best_knn = KNeighborsClassifier(n_neighbors=0)\n",
    "# find the best classifier for k = {1:20} based on minimum mean error.\n",
    "for i in range(1, 20):\n",
    "    knn = KNeighborsClassifier(n_neighbors=i)\n",
    "    # training the model\n",
    "    knn.fit(X_train, Y_train)\n",
    "    # predicting the label using test data\n",
    "    y_pred = knn.predict(X_validation)\n",
    "    error_i = np.mean(y_pred != Y_validation)\n",
    "    error.append(error_i)\n",
    "    if(error_i < min_error):\n",
    "        print('best k =',i,' with min_error =',error_i)\n",
    "        min_error = error_i\n",
    "        best_knn = knn"
   ]
  },
  {
   "cell_type": "code",
   "execution_count": 24,
   "metadata": {
    "scrolled": false
   },
   "outputs": [
    {
     "data": {
      "text/plain": [
       "Text(0, 0.5, 'Mean Error')"
      ]
     },
     "execution_count": 24,
     "metadata": {},
     "output_type": "execute_result"
    },
    {
     "data": {
      "image/png": "[encoded data removed]",
      "text/plain": [
       "<Figure size 864x432 with 1 Axes>"
      ]
     },
     "metadata": {
      "needs_background": "light"
     },
     "output_type": "display_data"
    }
   ],
   "source": [
    "# In the section below we are plotting to visualize mean error agaist different values of K.\n",
    "plt.figure(figsize=(12, 6))\n",
    "plt.plot(range(1, 20), error, color='red', linestyle='dashed', marker='o',\n",
    "         markerfacecolor='blue', markersize=10)\n",
    "plt.title('Error Rate K Value')\n",
    "plt.xlabel('K Value')\n",
    "plt.ylabel('Mean Error')"
   ]
  },
  {
   "cell_type": "code",
   "execution_count": 19,
   "metadata": {},
   "outputs": [
    {
     "name": "stdout",
     "output_type": "stream",
     "text": [
      "   9   -1  -1.1  -1.2   -1.3  -1.4  -0.948  -0.561  0.148  0.384  ...  -1.136  \\\n",
      "0  6 -1.0  -1.0  -1.0 -1.000  -1.0    -1.0  -1.000 -1.000 -1.000  ...  -1.000   \n",
      "1  3 -1.0  -1.0  -1.0 -0.593   0.7     1.0   1.000  1.000  1.000  ...   1.000   \n",
      "2  6 -1.0  -1.0  -1.0 -1.000  -1.0    -1.0  -1.000 -1.000 -1.000  ...  -1.000   \n",
      "3  6 -1.0  -1.0  -1.0 -1.000  -1.0    -1.0  -1.000 -0.858 -0.106  ...   0.901   \n",
      "4  0 -1.0  -1.0  -1.0 -1.000  -1.0    -1.0   0.195  1.000  0.054  ...   0.224   \n",
      "\n",
      "   -0.908   0.43  0.622  -0.973  -1.137  -1.138  -1.139  -1.140  -1.141  \n",
      "0  -1.000 -1.000 -1.000  -1.000  -1.000  -1.000    -1.0    -1.0    -1.0  \n",
      "1   0.717  0.333  0.162  -0.393  -1.000  -1.000    -1.0    -1.0    -1.0  \n",
      "2  -1.000 -1.000 -1.000  -1.000  -1.000  -1.000    -1.0    -1.0    -1.0  \n",
      "3   0.901  0.901  0.290  -0.369  -0.867  -1.000    -1.0    -1.0    -1.0  \n",
      "4   1.000  0.988  0.187   0.139  -0.641  -0.812    -1.0    -1.0    -1.0  \n",
      "\n",
      "[5 rows x 257 columns]\n"
     ]
    }
   ],
   "source": [
    "# In the section below we are loading test data csv file into dataframe named df_test.\n",
    "df_test = pd.read_csv('zip.test.p.csv')\n",
    "print(df_test.head())"
   ]
  },
  {
   "cell_type": "code",
   "execution_count": 20,
   "metadata": {},
   "outputs": [],
   "source": [
    "# In the section below we are separating attributes and labels for test data.\n",
    "X_test = df_test.iloc[:, 1:256].values\n",
    "Y_test = df_test.iloc[:, 0].values"
   ]
  },
  {
   "cell_type": "code",
   "execution_count": 21,
   "metadata": {},
   "outputs": [],
   "source": [
    "# let's predict the labels using the best model\n",
    "Y_pred = best_knn.predict(X_test)"
   ]
  },
  {
   "cell_type": "code",
   "execution_count": 27,
   "metadata": {
    "scrolled": true
   },
   "outputs": [
    {
     "name": "stdout",
     "output_type": "stream",
     "text": [
      "              precision    recall  f1-score   support\n",
      "\n",
      "           0       0.96      0.99      0.97       359\n",
      "           1       0.98      0.97      0.97       264\n",
      "           2       0.94      0.92      0.93       198\n",
      "           3       0.93      0.92      0.92       166\n",
      "           4       0.92      0.90      0.91       200\n",
      "           5       0.93      0.91      0.92       160\n",
      "           6       0.96      0.96      0.96       170\n",
      "           7       0.92      0.94      0.93       147\n",
      "           8       0.95      0.89      0.92       166\n",
      "           9       0.89      0.95      0.92       176\n",
      "\n",
      "    accuracy                           0.94      2006\n",
      "   macro avg       0.94      0.94      0.94      2006\n",
      "weighted avg       0.94      0.94      0.94      2006\n",
      "\n"
     ]
    }
   ],
   "source": [
    "# Print out classification report\n",
    "from sklearn.metrics import classification_report, confusion_matrix\n",
    "print(classification_report(Y_test, Y_pred))"
   ]
  }
 ],
 "metadata": {
  "kernelspec": {
   "display_name": "Python 3",
   "language": "python",
   "name": "python3"
  },
  "language_info": {
   "codemirror_mode": {
    "name": "ipython",
    "version": 3
   },
   "file_extension": ".py",
   "mimetype": "text/x-python",
   "name": "python",
   "nbconvert_exporter": "python",
   "pygments_lexer": "ipython3",
   "version": "3.8.5"
  }
 },
 "nbformat": 4,
 "nbformat_minor": 4
}
