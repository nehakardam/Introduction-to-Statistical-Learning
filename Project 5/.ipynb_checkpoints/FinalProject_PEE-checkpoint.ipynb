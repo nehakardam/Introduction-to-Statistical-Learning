{
 "cells": [
  {
   "cell_type": "markdown",
   "metadata": {},
   "source": [
    "###### Importing the libraries"
   ]
  },
  {
   "cell_type": "code",
   "execution_count": 1,
   "metadata": {},
   "outputs": [],
   "source": [
    "import numpy as np\n",
    "import matplotlib.pyplot as plt\n",
    "import pandas as pd\n",
    "from sklearn import linear_model\n",
    "from sklearn.linear_model import LinearRegression\n",
    "from sklearn.linear_model import Ridge\n",
    "from sklearn.linear_model import Lasso\n",
    "from sklearn.linear_model import ElasticNet\n",
    "from sklearn.linear_model import LassoLars\n",
    "from sklearn.linear_model import PoissonRegressor\n",
    "from sklearn.linear_model import GammaRegressor\n",
    "from sklearn.metrics import mean_squared_error\n",
    "from sklearn.preprocessing import OneHotEncoder\n",
    "from sklearn import preprocessing\n",
    "from sklearn.svm import SVR\n",
    "from sklearn.svm import NuSVR\n",
    "from sklearn.svm import LinearSVR\n",
    "from sklearn.kernel_ridge import KernelRidge\n",
    "from sklearn.linear_model import SGDRegressor\n",
    "from sklearn.model_selection import GridSearchCV\n",
    "from sklearn.ensemble import GradientBoostingRegressor\n",
    "from sklearn.ensemble import RandomForestRegressor\n",
    "from sklearn.linear_model import LinearRegression"
   ]
  },
  {
   "cell_type": "markdown",
   "metadata": {},
   "source": [
    "###### Loading the data and defining numerical and discrete variables "
   ]
  },
  {
   "cell_type": "code",
   "execution_count": 2,
   "metadata": {},
   "outputs": [],
   "source": [
    "df = pd.read_csv('CombinedData_ForGroup_101120.csv')\n",
    "\n",
    "numerical_variables = ['A3.2', 'A4.2', 'B1_Age', 'B6_GPA']\n",
    "\n",
    "discrete_variables = ['RemoteTrad', 'Subject Code', 'Class', 'Quarter', 'Year', 'Section',\n",
    "       'A1_Status', 'A2_Major', 'A3.1', 'A4.1', 'A5.1', 'B2_Gender', 'B3.1_USStatus', \n",
    "       'B3.2_Country', 'B4.1_Race', 'B5_Income', 'B7_MotherEd', 'B8_FatherEd', 'B9_SocioClass',\n",
    "       'B10_MajorSelection', 'B11.1', 'B11.2', 'B11.3', 'B11.4', 'B11.5', 'B11.6', 'B12.1', 'B12.2', \n",
    "       'B12.3', 'B12.4', 'B12.5', 'B12.6', 'B12.7']"
   ]
  },
  {
   "cell_type": "markdown",
   "metadata": {},
   "source": [
    "###### Handling missing values, missing discrete value to nan and missing numerical value to 0"
   ]
  },
  {
   "cell_type": "code",
   "execution_count": 3,
   "metadata": {},
   "outputs": [],
   "source": [
    "# missing values will be replaced by nan for discrete variables\n",
    "for column in discrete_variables:\n",
    "    df = df.astype({column:'str'}) \n",
    "            \n",
    "for column in numerical_variables:\n",
    "    df[column] = pd.to_numeric(df[column], errors='coerce')\n",
    "\n",
    "# missing values will be replaced by 0 for numerical variables\n",
    "for row in range(df.shape[0]):\n",
    "    for column in numerical_variables:\n",
    "        if np.isnan(df.loc[row,column]):\n",
    "            df.loc[row,column] = 0"
   ]
  },
  {
   "cell_type": "markdown",
   "metadata": {},
   "source": [
    "###### Splitting the data into train, validation and test"
   ]
  },
  {
   "cell_type": "code",
   "execution_count": 4,
   "metadata": {},
   "outputs": [
    {
     "name": "stdout",
     "output_type": "stream",
     "text": [
      "DataFrame train : (842, 138)\n",
      "DataFrame validation : (106, 138)\n",
      "DataFrame test : (106, 138)\n"
     ]
    }
   ],
   "source": [
    "y_outcome = 'Effort'\n",
    "train = []\n",
    "validation = []\n",
    "test = []\n",
    "for row in range(df.shape[0]):\n",
    "    if np.isnan(df.loc[row][y_outcome]):\n",
    "        df.drop(row)\n",
    "    else:\n",
    "        if(row % 10 == 3):\n",
    "            validation.append(df.loc[row,:].values)\n",
    "        elif(row % 10 == 4):\n",
    "            test.append(df.loc[row,:].values)\n",
    "        else:\n",
    "            train.append(df.loc[row,:].values)\n",
    "    \n",
    "df_train = pd.DataFrame(train, columns = df.columns)\n",
    "df_validation = pd.DataFrame(validation, columns = df.columns)\n",
    "df_test = pd.DataFrame(test, columns = df.columns)\n",
    "Y_train = df_train.loc[:,y_outcome].to_numpy()\n",
    "Y_validation = df_validation.loc[:,y_outcome].to_numpy()\n",
    "Y_test = df_test.loc[:,y_outcome].to_numpy()\n",
    "print('DataFrame train :', df_train.shape)\n",
    "print('DataFrame validation :', df_validation.shape)\n",
    "print('DataFrame test :', df_test.shape)"
   ]
  },
  {
   "cell_type": "markdown",
   "metadata": {},
   "source": [
    "###### Onehot encoding for discrete features"
   ]
  },
  {
   "cell_type": "code",
   "execution_count": 5,
   "metadata": {},
   "outputs": [],
   "source": [
    "# define one hot encoding\n",
    "encoder = OneHotEncoder(handle_unknown='ignore', sparse=False)\n",
    "\n",
    "# transform data\n",
    "onehot = pd.DataFrame(encoder.fit_transform(df_train.loc[:,discrete_variables]))\n",
    "X_train_numerical = df_train.loc[:,numerical_variables]\n",
    "X_train_joint = X_train_numerical.join(onehot)\n",
    "\n",
    "# transform validation data\n",
    "onehot_validation = pd.DataFrame(encoder.transform(df_validation.loc[:,discrete_variables]))\n",
    "X_validation_numerical = df_validation.loc[:,numerical_variables]\n",
    "X_validation_joint = X_validation_numerical.join(onehot_validation)\n",
    "\n",
    "# transform test data\n",
    "onehot_test = pd.DataFrame(encoder.transform(df_test.loc[:,discrete_variables]))\n",
    "X_test_numerical = df_test.loc[:,numerical_variables]\n",
    "X_test_joint = X_test_numerical.join(onehot_test)"
   ]
  },
  {
   "cell_type": "markdown",
   "metadata": {},
   "source": [
    "###### Sandard scaling"
   ]
  },
  {
   "cell_type": "code",
   "execution_count": 6,
   "metadata": {},
   "outputs": [],
   "source": [
    "# normalize the features by subtracting the mean and dividing by the standard deviation\n",
    "scaler = preprocessing.StandardScaler().fit(X_train_joint)\n",
    "X_train_scaled = scaler.transform(X_train_joint)\n",
    "X_validation_scaled = scaler.transform(X_validation_joint)\n",
    "X_test_scaled = scaler.transform(X_test_joint)"
   ]
  },
  {
   "cell_type": "markdown",
   "metadata": {},
   "source": [
    "###### Defining Ordinary Least Squares linear regression model as baseline"
   ]
  },
  {
   "cell_type": "code",
   "execution_count": 7,
   "metadata": {},
   "outputs": [
    {
     "name": "stdout",
     "output_type": "stream",
     "text": [
      "MSE: 0.6516\n"
     ]
    }
   ],
   "source": [
    "reg = LinearRegression()\n",
    "\n",
    "# train\n",
    "reg.fit(X_train_scaled, Y_train)\n",
    "\n",
    "# predict\n",
    "Y_pred = reg.predict(X_validation_scaled)\n",
    "\n",
    "# The mean squared error\n",
    "print('MSE: %.4f'% mean_squared_error(Y_validation, Y_pred))"
   ]
  },
  {
   "cell_type": "code",
   "execution_count": 8,
   "metadata": {},
   "outputs": [
    {
     "data": {
      "image/png": "[encoded data removed]",
      "text/plain": [
       "<Figure size 800x400 with 1 Axes>"
      ]
     },
     "metadata": {},
     "output_type": "display_data"
    }
   ],
   "source": [
    "plt.figure(num=None, figsize=(10, 5), dpi=80, facecolor='w', edgecolor='k')\n",
    "\n",
    "plt.plot(Y_pred, 'ys', label='LinearRegression')\n",
    "plt.plot(Y_validation, 'r*', label='ActualValues')\n",
    "\n",
    "plt.tick_params(axis='x', which='both', bottom=False, top=False, labelbottom=False)\n",
    "\n",
    "plt.ylabel('predicted')\n",
    "plt.xlabel('validation samples')\n",
    "plt.legend(loc=\"best\")\n",
    "plt.title('Regressor predictions and their average')\n",
    "\n",
    "plt.show()"
   ]
  },
  {
   "cell_type": "markdown",
   "metadata": {},
   "source": [
    "##### Ridge regression addresses some of the problems of Ordinary Least Squares by imposing a penalty on the size of the coefficients."
   ]
  },
  {
   "cell_type": "code",
   "execution_count": 9,
   "metadata": {},
   "outputs": [
    {
     "name": "stdout",
     "output_type": "stream",
     "text": [
      "MSE: 0.6516\n"
     ]
    }
   ],
   "source": [
    "ridge = GridSearchCV(Ridge(),\n",
    "                       param_grid={\"alpha\": np.logspace(-3, 4, 8)})\n",
    "# train\n",
    "ridge.fit(X_train_scaled, Y_train)\n",
    "\n",
    "# predict\n",
    "Y_pred1 = ridge.predict(X_validation_scaled)\n",
    "\n",
    "# The mean squared error\n",
    "print('MSE: %.4f'% mean_squared_error(Y_validation, Y_pred))"
   ]
  },
  {
   "cell_type": "markdown",
   "metadata": {},
   "source": [
    "###### The Lasso is a linear model that estimates sparse coefficients."
   ]
  },
  {
   "cell_type": "code",
   "execution_count": 10,
   "metadata": {},
   "outputs": [
    {
     "name": "stdout",
     "output_type": "stream",
     "text": [
      "MSE: 0.6516\n"
     ]
    }
   ],
   "source": [
    "lasso = GridSearchCV(Lasso(),\n",
    "                       param_grid={\"alpha\": np.logspace(0, 4, 5)})\n",
    "# train\n",
    "lasso.fit(X_train_scaled, Y_train)\n",
    "\n",
    "# predict\n",
    "Y_pred2 = lasso.predict(X_validation_scaled)\n",
    "\n",
    "# The mean squared error\n",
    "print('MSE: %.4f'% mean_squared_error(Y_validation, Y_pred))"
   ]
  },
  {
   "cell_type": "markdown",
   "metadata": {},
   "source": [
    "###### ElasticNet is a linear regression model trained with both L1 and L2 norm regularization of the coefficients."
   ]
  },
  {
   "cell_type": "code",
   "execution_count": 11,
   "metadata": {},
   "outputs": [
    {
     "name": "stdout",
     "output_type": "stream",
     "text": [
      "MSE: 0.6516\n"
     ]
    }
   ],
   "source": [
    "elastic = GridSearchCV(ElasticNet(),\n",
    "                       param_grid={\"alpha\": np.logspace(-2, 3, 6)})\n",
    "# train\n",
    "elastic.fit(X_train_scaled, Y_train)\n",
    "\n",
    "# predict\n",
    "Y_pred3 = elastic.predict(X_validation_scaled)\n",
    "\n",
    "# The mean squared error\n",
    "print('MSE: %.4f'% mean_squared_error(Y_validation, Y_pred))"
   ]
  },
  {
   "cell_type": "markdown",
   "metadata": {},
   "source": [
    "###### Generalized Linear Regression, assuming Poisson distribution"
   ]
  },
  {
   "cell_type": "code",
   "execution_count": 12,
   "metadata": {},
   "outputs": [
    {
     "name": "stdout",
     "output_type": "stream",
     "text": [
      "MSE: 0.6516\n"
     ]
    }
   ],
   "source": [
    "poisson = GridSearchCV(PoissonRegressor(),\n",
    "                       param_grid={\"alpha\": np.logspace(-2, 3, 6)})\n",
    "# train\n",
    "poisson.fit(X_train_scaled, Y_train)\n",
    "\n",
    "# predict\n",
    "Y_pred4 = poisson.predict(X_validation_scaled)\n",
    "\n",
    "# The mean squared error\n",
    "print('MSE: %.4f'% mean_squared_error(Y_validation, Y_pred))"
   ]
  },
  {
   "cell_type": "markdown",
   "metadata": {},
   "source": [
    "###### Generalized Linear Regression, assuming Gamma distribution"
   ]
  },
  {
   "cell_type": "code",
   "execution_count": 13,
   "metadata": {},
   "outputs": [
    {
     "name": "stdout",
     "output_type": "stream",
     "text": [
      "MSE: 0.6516\n"
     ]
    }
   ],
   "source": [
    "gamma = GridSearchCV(GammaRegressor(),\n",
    "                       param_grid={\"alpha\": np.logspace(-2, 3, 6)})\n",
    "# train\n",
    "gamma.fit(X_train_scaled, Y_train)\n",
    "\n",
    "# predict\n",
    "Y_pred5 = gamma.predict(X_validation_scaled)\n",
    "\n",
    "# The mean squared error\n",
    "print('MSE: %.4f'% mean_squared_error(Y_validation, Y_pred))"
   ]
  },
  {
   "cell_type": "markdown",
   "metadata": {},
   "source": [
    "###### Epsilon-Support Vector Regression"
   ]
  },
  {
   "cell_type": "code",
   "execution_count": 14,
   "metadata": {},
   "outputs": [
    {
     "name": "stdout",
     "output_type": "stream",
     "text": [
      "MSE: 0.6516\n"
     ]
    }
   ],
   "source": [
    "svr = GridSearchCV(SVR(kernel='rbf', gamma=0.1),\n",
    "                   param_grid={\"C\": [1e0, 1e1, 1e2, 1e3],\n",
    "                               \"epsilon\": np.logspace(-2, 2, 5)})\n",
    "# train\n",
    "svr.fit(X_train_scaled, Y_train)\n",
    "\n",
    "# predict\n",
    "Y_pred6 = svr.predict(X_validation_scaled)\n",
    "\n",
    "# The mean squared error\n",
    "print('MSE: %.4f'% mean_squared_error(Y_validation, Y_pred))"
   ]
  },
  {
   "cell_type": "markdown",
   "metadata": {},
   "source": [
    "###### Nu Support Vector Regression"
   ]
  },
  {
   "cell_type": "code",
   "execution_count": 15,
   "metadata": {},
   "outputs": [
    {
     "name": "stdout",
     "output_type": "stream",
     "text": [
      "MSE: 0.6516\n"
     ]
    }
   ],
   "source": [
    "nusvr = GridSearchCV(NuSVR(kernel='rbf', gamma=0.1),\n",
    "                   param_grid={\"C\": [1e0, 1e1, 1e2, 1e3],\n",
    "                               \"nu\": [0.1, 0.2, 0.3, 0.4, 0.5, 0.6, 0.7, 0.8]})\n",
    "# train\n",
    "nusvr.fit(X_train_scaled, Y_train)\n",
    "\n",
    "# predict\n",
    "Y_pred7 = nusvr.predict(X_validation_scaled)\n",
    "\n",
    "# The mean squared error\n",
    "print('MSE: %.4f'% mean_squared_error(Y_validation, Y_pred))"
   ]
  },
  {
   "cell_type": "markdown",
   "metadata": {},
   "source": [
    "###### Stochastic Gradient Descent"
   ]
  },
  {
   "cell_type": "code",
   "execution_count": 16,
   "metadata": {},
   "outputs": [
    {
     "name": "stdout",
     "output_type": "stream",
     "text": [
      "MSE: 0.6516\n"
     ]
    }
   ],
   "source": [
    "sgd = GridSearchCV(SGDRegressor(max_iter=1000, tol=1e-3),\n",
    "                   param_grid={\"alpha\": np.logspace(-5, 2, 8)})\n",
    "# train\n",
    "sgd.fit(X_train_scaled, Y_train)\n",
    "\n",
    "# predict\n",
    "Y_pred8 = sgd.predict(X_validation_scaled)\n",
    "\n",
    "# The mean squared error\n",
    "print('MSE: %.4f'% mean_squared_error(Y_validation, Y_pred))"
   ]
  },
  {
   "cell_type": "code",
   "execution_count": 19,
   "metadata": {},
   "outputs": [
    {
     "data": {
      "image/png": "[encoded data removed]",
      "text/plain": [
       "<Figure size 800x400 with 1 Axes>"
      ]
     },
     "metadata": {},
     "output_type": "display_data"
    }
   ],
   "source": [
    "plt.figure(num=None, figsize=(10, 5), dpi=80, facecolor='w', edgecolor='k')\n",
    "\n",
    "plt.plot(Y_pred1, 'bo', label='RidgeRegression')\n",
    "plt.plot(Y_pred2, 'go', label='LassoRegression')\n",
    "plt.plot(Y_pred3, 'ro', label='ElasticRegression')\n",
    "plt.plot(Y_pred4, 'co', label='GeneralizedLinearRegression-Poisson')\n",
    "plt.plot(Y_pred5, 'mo', label='GeneralizedLinearRegression-Gamma')\n",
    "plt.plot(Y_pred6, 'yo', label='Elipson-SupportVectorRegression')\n",
    "plt.plot(Y_pred7, 'ko', label='NuSupportVectorRegression')\n",
    "plt.plot(Y_pred8, 'wo', label='StochasticGradientDescent')\n",
    "plt.plot(Y_validation, 'r*', label='ActualValues')\n",
    "\n",
    "plt.tick_params(axis='x', which='both', bottom=False, top=False, labelbottom=False)\n",
    "\n",
    "plt.ylabel('predicted')\n",
    "plt.xlabel('validation samples')\n",
    "plt.legend(loc=\"best\")\n",
    "plt.title('Regressor predictions and their average')\n",
    "\n",
    "plt.show()"
   ]
  },
  {
   "cell_type": "markdown",
   "metadata": {},
   "source": [
    "###### Use test data for the best model found (ElasticNet)"
   ]
  },
  {
   "cell_type": "code",
   "execution_count": 18,
   "metadata": {},
   "outputs": [
    {
     "name": "stdout",
     "output_type": "stream",
     "text": [
      "MSE: 0.7190\n"
     ]
    }
   ],
   "source": [
    "Y_pred_test = gamma.predict(X_test_scaled)\n",
    "# The mean squared error\n",
    "print('MSE: %.4f'% mean_squared_error(Y_test, Y_pred_test))"
   ]
  }
 ],
 "metadata": {
  "kernelspec": {
   "display_name": "Python 3",
   "language": "python",
   "name": "python3"
  },
  "language_info": {
   "codemirror_mode": {
    "name": "ipython",
    "version": 3
   },
   "file_extension": ".py",
   "mimetype": "text/x-python",
   "name": "python",
   "nbconvert_exporter": "python",
   "pygments_lexer": "ipython3",
   "version": "3.8.5"
  }
 },
 "nbformat": 4,
 "nbformat_minor": 4
}
